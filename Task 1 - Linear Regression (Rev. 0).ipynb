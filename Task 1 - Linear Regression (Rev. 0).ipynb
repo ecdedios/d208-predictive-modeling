{
 "cells": [
  {
   "cell_type": "markdown",
   "id": "029bffab-eac3-47b7-81cf-297e422475f4",
   "metadata": {},
   "source": [
    "### WGU D208 Predictive Modeling\n",
    "# Task 1 - Linear Regression\n",
    "\n",
    "#### Ednalyn C. De Dios\n",
    "#### August 6, 2023\n",
    "\n",
    "## A1. Research Question\n",
    "\n",
    "> ### _Can we predict how much the customer will pay in monthly charges?_\n",
    "\n",
    "## A2. Goals\n",
    "\n",
    "The organization will benefit from knowing how much a customer might pay in monthly charges. This will inform the decisions of stakeholders in matters where customer lifetime value needs to be taken into account. For example, a marketing campaign might target customers who are not spending enough money to be upsold with other telecom services.\n",
    "\n",
    "## B1. Summary of Assumptions\n",
    "\n",
    "According to Statology.org, assumptions of a multiple linear regression model include the following:\n",
    "- A linear relationship between the independent and dependent variables\n",
    "- The independent variables do not have multicollinearity\n",
    "- Independence of observations\n",
    "- Residuals have a constant variance at every point in the linear model (homoscedasticity)\n",
    "- The residuals of the model are normally distributed\n",
    "\n",
    "## B2. Tool Benefits\n",
    "\n",
    "Jupyter Notebooks and the Python programming language will be used in this analysis. I chose to program in Python because it is very readable. It ranks among the most popular languages worldwide because it's powerful, flexible, and easy to use. (Geeksforgeeks.org, 2023)  Moreover, the Python community is active (Geeksforgeeks.org, 2023) and the language sports a vast system of mature packages for data science and machine learning. \n",
    "\n",
    "## B3. Appropriate Technique\n",
    "\n",
    "The target variable, MonthlyCharge, is a continuous variable and hence multiple linear regression is the right tool to analyze if we can predict howw much a customer will pay in monthly charges. In addition, the data set has several good candidates of explanatory variables that will inform our predictions. We will determine if the independent variables have a positive or negative relationship to the target variable. This can perhaps affect the organization's decisions on marketing segmentation.\n",
    "\n",
    "## C1. Data Cleaning\n",
    "\n",
    "Our goal for cleaning the data set is to have a dataframe free of duplicates, missing values, outliers, and irrelevant variables. To do so, we will execute the following goals and steps:\n",
    "\n",
    "1. Find and remove duplicates.\n",
    "2. Handle missing values.\n",
    "3. Remove outliers where necessary.\n",
    "4. Drop irrelevant features."
   ]
  },
  {
   "cell_type": "code",
   "execution_count": 1,
   "id": "60af8229-12eb-4bdd-a50d-b99f0a882e48",
   "metadata": {},
   "outputs": [],
   "source": [
    "# setting the random seed for reproducibility\n",
    "import random\n",
    "random.seed(493)\n",
    "\n",
    "# for manipulating dataframes\n",
    "import pandas as pd\n",
    "import numpy as np\n",
    "\n",
    "# for visualizations\n",
    "%matplotlib inline\n",
    "import matplotlib.pyplot as plt\n",
    "import seaborn as sns\n",
    "sns.set(style=\"whitegrid\")\n",
    "\n",
    "# to print out all the outputs\n",
    "from IPython.core.interactiveshell import InteractiveShell\n",
    "InteractiveShell.ast_node_interactivity = \"all\"\n",
    "\n",
    "# set display options\n",
    "pd.set_option('display.max_columns', None)\n",
    "pd.set_option('display.max_rows', None)\n",
    "pd.set_option('display.max_colwidth', None)"
   ]
  },
  {
   "cell_type": "code",
   "execution_count": 2,
   "id": "bafdfc01-e162-4c4e-a08f-2551592b88a9",
   "metadata": {},
   "outputs": [],
   "source": [
    "# read the csv file\n",
    "df = pd.read_csv('churn_clean.csv')"
   ]
  },
  {
   "cell_type": "code",
   "execution_count": null,
   "id": "b817e049-00e4-43e0-a6ea-edc0f204cbab",
   "metadata": {},
   "outputs": [],
   "source": []
  },
  {
   "cell_type": "code",
   "execution_count": null,
   "id": "313647ec-baa9-4d49-89b6-b2e99f28a292",
   "metadata": {},
   "outputs": [],
   "source": []
  },
  {
   "cell_type": "code",
   "execution_count": null,
   "id": "1014aa35-44ad-4d53-8795-72faf502983a",
   "metadata": {},
   "outputs": [],
   "source": []
  },
  {
   "cell_type": "code",
   "execution_count": null,
   "id": "7d981663-dd68-4d25-8a75-bf4fdc1f8adc",
   "metadata": {},
   "outputs": [],
   "source": []
  },
  {
   "cell_type": "code",
   "execution_count": null,
   "id": "c2ab7cd3-9e23-4384-b441-4d094b9da37c",
   "metadata": {},
   "outputs": [],
   "source": []
  },
  {
   "cell_type": "code",
   "execution_count": null,
   "id": "424766b9-22a8-419a-b6a9-5c56fd3bfc23",
   "metadata": {},
   "outputs": [],
   "source": []
  },
  {
   "cell_type": "code",
   "execution_count": null,
   "id": "11a2b25a-c875-404d-86a2-cf36861a1f2d",
   "metadata": {},
   "outputs": [],
   "source": []
  },
  {
   "cell_type": "code",
   "execution_count": null,
   "id": "be8d226c-a0ca-45d9-8aa1-6d2517072e88",
   "metadata": {},
   "outputs": [],
   "source": []
  },
  {
   "cell_type": "code",
   "execution_count": null,
   "id": "9330dd31-cdbe-4051-98ba-7245d65ee572",
   "metadata": {},
   "outputs": [],
   "source": []
  },
  {
   "cell_type": "code",
   "execution_count": null,
   "id": "ab09c367-5cde-4a0d-8de7-b228a5ac2794",
   "metadata": {},
   "outputs": [],
   "source": []
  },
  {
   "cell_type": "code",
   "execution_count": null,
   "id": "d4f2d159-ea1b-4435-a4b6-864488450124",
   "metadata": {},
   "outputs": [],
   "source": []
  },
  {
   "cell_type": "code",
   "execution_count": null,
   "id": "5aeacfb2-0871-4eb4-a561-358192a3522b",
   "metadata": {},
   "outputs": [],
   "source": []
  },
  {
   "cell_type": "code",
   "execution_count": null,
   "id": "e6e0b4be-340c-42ce-9609-ae1f10ce6612",
   "metadata": {},
   "outputs": [],
   "source": []
  },
  {
   "cell_type": "code",
   "execution_count": null,
   "id": "7bd24703-8678-4529-84f7-7efb40dca9fd",
   "metadata": {},
   "outputs": [],
   "source": []
  },
  {
   "cell_type": "markdown",
   "id": "60e9c056-6925-42b4-b170-b22102c1904d",
   "metadata": {},
   "source": [
    "## C2. Summary Statistics"
   ]
  },
  {
   "cell_type": "markdown",
   "id": "1be6adc8-27ff-4941-b9ce-10d50f4de4f4",
   "metadata": {},
   "source": [
    "## C3. Visualizations\n",
    "\n",
    "## C4. Data Transformation\n",
    "\n",
    "## C5. Prepared Data Set\n",
    "\n",
    "## D1. Initial Model\n",
    "\n",
    "## D2. Justification of Model Reduction\n",
    "\n",
    "## D3. Reduced Linear Regression Model\n",
    "\n",
    "## E1. Model Comparison\n",
    "\n",
    "## E2. Output and Calculations\n",
    "\n",
    "## E3. Code\n",
    "\n",
    "## F1. Results\n",
    "\n",
    "## F2. Recommendations\n",
    "\n",
    "## G. Panoptop Demonstration\n",
    "\n",
    "## H. Sources of Third-Party Code\n",
    "\n",
    "## I. Sources"
   ]
  },
  {
   "cell_type": "code",
   "execution_count": null,
   "id": "074c14ca-2dca-43b5-95b6-ece9d561d929",
   "metadata": {},
   "outputs": [],
   "source": [
    "##"
   ]
  }
 ],
 "metadata": {
  "kernelspec": {
   "display_name": "Python 3 (ipykernel)",
   "language": "python",
   "name": "python3"
  },
  "language_info": {
   "codemirror_mode": {
    "name": "ipython",
    "version": 3
   },
   "file_extension": ".py",
   "mimetype": "text/x-python",
   "name": "python",
   "nbconvert_exporter": "python",
   "pygments_lexer": "ipython3",
   "version": "3.9.9"
  }
 },
 "nbformat": 4,
 "nbformat_minor": 5
}
